{
 "cells": [
  {
   "cell_type": "code",
   "execution_count": 1,
   "id": "b29f5042",
   "metadata": {},
   "outputs": [
    {
     "name": "stdout",
     "output_type": "stream",
     "text": [
      "Python 3.8.12\n"
     ]
    }
   ],
   "source": [
    "! python --version"
   ]
  },
  {
   "cell_type": "code",
   "execution_count": 2,
   "id": "41ed70ec",
   "metadata": {},
   "outputs": [
    {
     "name": "stdout",
     "output_type": "stream",
     "text": [
      "Collecting pyspark\n",
      "  Using cached pyspark-3.2.1-py2.py3-none-any.whl\n",
      "Collecting py4j==0.10.9.3\n",
      "  Using cached py4j-0.10.9.3-py2.py3-none-any.whl (198 kB)\n",
      "Installing collected packages: py4j, pyspark\n",
      "Successfully installed py4j-0.10.9.3 pyspark-3.2.1\n"
     ]
    }
   ],
   "source": [
    "!pip install pyspark"
   ]
  },
  {
   "cell_type": "markdown",
   "id": "e097f333",
   "metadata": {},
   "source": [
    "## Pyspark Introduction"
   ]
  },
  {
   "cell_type": "code",
   "execution_count": 2,
   "id": "604ef057",
   "metadata": {},
   "outputs": [],
   "source": [
    "import pyspark"
   ]
  },
  {
   "cell_type": "code",
   "execution_count": 5,
   "id": "64b4c832",
   "metadata": {
    "scrolled": true
   },
   "outputs": [
    {
     "name": "stdout",
     "output_type": "stream",
     "text": [
      "Collecting pandas\n",
      "  Downloading pandas-1.4.0-cp38-cp38-win_amd64.whl (10.6 MB)\n",
      "Collecting numpy>=1.18.5\n",
      "  Downloading numpy-1.22.2-cp38-cp38-win_amd64.whl (14.7 MB)\n",
      "Requirement already satisfied: python-dateutil>=2.8.1 in d:\\minicondca\\envs\\env_py3.8\\lib\\site-packages (from pandas) (2.8.2)\n",
      "Collecting pytz>=2020.1\n",
      "  Downloading pytz-2021.3-py2.py3-none-any.whl (503 kB)\n",
      "Requirement already satisfied: six>=1.5 in d:\\minicondca\\envs\\env_py3.8\\lib\\site-packages (from python-dateutil>=2.8.1->pandas) (1.16.0)\n",
      "Installing collected packages: pytz, numpy, pandas\n",
      "Successfully installed numpy-1.22.2 pandas-1.4.0 pytz-2021.3\n"
     ]
    }
   ],
   "source": [
    "!pip install pandas"
   ]
  },
  {
   "cell_type": "code",
   "execution_count": 12,
   "id": "a745bbbc",
   "metadata": {},
   "outputs": [
    {
     "name": "stdout",
     "output_type": "stream",
     "text": [
      "Collecting openpyxl\n",
      "  Downloading openpyxl-3.0.9-py2.py3-none-any.whl (242 kB)\n",
      "Collecting et-xmlfile\n",
      "  Downloading et_xmlfile-1.1.0-py3-none-any.whl (4.7 kB)\n",
      "Installing collected packages: et-xmlfile, openpyxl\n",
      "Successfully installed et-xmlfile-1.1.0 openpyxl-3.0.9\n"
     ]
    }
   ],
   "source": [
    "!pip install openpyxl"
   ]
  },
  {
   "cell_type": "code",
   "execution_count": 3,
   "id": "25074b82",
   "metadata": {},
   "outputs": [],
   "source": [
    "import pandas as pd"
   ]
  },
  {
   "cell_type": "code",
   "execution_count": 17,
   "id": "dafb4bd9",
   "metadata": {},
   "outputs": [
    {
     "data": {
      "text/html": [
       "<div>\n",
       "<style scoped>\n",
       "    .dataframe tbody tr th:only-of-type {\n",
       "        vertical-align: middle;\n",
       "    }\n",
       "\n",
       "    .dataframe tbody tr th {\n",
       "        vertical-align: top;\n",
       "    }\n",
       "\n",
       "    .dataframe thead th {\n",
       "        text-align: right;\n",
       "    }\n",
       "</style>\n",
       "<table border=\"1\" class=\"dataframe\">\n",
       "  <thead>\n",
       "    <tr style=\"text-align: right;\">\n",
       "      <th></th>\n",
       "      <th>name;age</th>\n",
       "    </tr>\n",
       "  </thead>\n",
       "  <tbody>\n",
       "    <tr>\n",
       "      <th>0</th>\n",
       "      <td>Jasmin;27</td>\n",
       "    </tr>\n",
       "    <tr>\n",
       "      <th>1</th>\n",
       "      <td>Marcus;29</td>\n",
       "    </tr>\n",
       "    <tr>\n",
       "      <th>2</th>\n",
       "      <td>Vanessa;25</td>\n",
       "    </tr>\n",
       "    <tr>\n",
       "      <th>3</th>\n",
       "      <td>Christine;51</td>\n",
       "    </tr>\n",
       "  </tbody>\n",
       "</table>\n",
       "</div>"
      ],
      "text/plain": [
       "       name;age\n",
       "0     Jasmin;27\n",
       "1     Marcus;29\n",
       "2    Vanessa;25\n",
       "3  Christine;51"
      ]
     },
     "execution_count": 17,
     "metadata": {},
     "output_type": "execute_result"
    }
   ],
   "source": [
    "pandas_df = pd.read_csv('test1.csv')\n",
    "pandas_df"
   ]
  },
  {
   "cell_type": "code",
   "execution_count": 5,
   "id": "1f392599",
   "metadata": {},
   "outputs": [],
   "source": [
    "from pyspark.sql import SparkSession"
   ]
  },
  {
   "cell_type": "code",
   "execution_count": 6,
   "id": "7aa8d225",
   "metadata": {},
   "outputs": [],
   "source": [
    "spark = SparkSession.builder.appName('Practise').getOrCreate()"
   ]
  },
  {
   "cell_type": "code",
   "execution_count": 7,
   "id": "21a05392",
   "metadata": {},
   "outputs": [
    {
     "data": {
      "text/html": [
       "\n",
       "            <div>\n",
       "                <p><b>SparkSession - in-memory</b></p>\n",
       "                \n",
       "        <div>\n",
       "            <p><b>SparkContext</b></p>\n",
       "\n",
       "            <p><a href=\"http://host.docker.internal:4040\">Spark UI</a></p>\n",
       "\n",
       "            <dl>\n",
       "              <dt>Version</dt>\n",
       "                <dd><code>v3.2.1</code></dd>\n",
       "              <dt>Master</dt>\n",
       "                <dd><code>local[*]</code></dd>\n",
       "              <dt>AppName</dt>\n",
       "                <dd><code>Practise</code></dd>\n",
       "            </dl>\n",
       "        </div>\n",
       "        \n",
       "            </div>\n",
       "        "
      ],
      "text/plain": [
       "<pyspark.sql.session.SparkSession at 0x1aad32fe160>"
      ]
     },
     "execution_count": 7,
     "metadata": {},
     "output_type": "execute_result"
    }
   ],
   "source": [
    "spark"
   ]
  },
  {
   "cell_type": "code",
   "execution_count": 30,
   "id": "35a9de7f",
   "metadata": {},
   "outputs": [],
   "source": [
    "df_pyspark = spark.read.csv('test1.csv')"
   ]
  },
  {
   "cell_type": "code",
   "execution_count": 40,
   "id": "8b9c39a4",
   "metadata": {},
   "outputs": [
    {
     "name": "stdout",
     "output_type": "stream",
     "text": [
      "root\n",
      " |-- name;age: string (nullable = true)\n",
      "\n"
     ]
    }
   ],
   "source": [
    "df_pyspark.printSchema()"
   ]
  },
  {
   "cell_type": "code",
   "execution_count": 32,
   "id": "6bb8db23",
   "metadata": {},
   "outputs": [
    {
     "name": "stdout",
     "output_type": "stream",
     "text": [
      "+------------+\n",
      "|         _c0|\n",
      "+------------+\n",
      "|    name;age|\n",
      "|   Jasmin;27|\n",
      "|   Marcus;29|\n",
      "|  Vanessa;25|\n",
      "|Christine;51|\n",
      "+------------+\n",
      "\n"
     ]
    }
   ],
   "source": [
    "df_pyspark.show()"
   ]
  },
  {
   "cell_type": "markdown",
   "id": "f94d0b81",
   "metadata": {},
   "source": [
    "make first row column names, ; as seperator so we don't mix up columns"
   ]
  },
  {
   "cell_type": "code",
   "execution_count": 41,
   "id": "5b75caef",
   "metadata": {},
   "outputs": [],
   "source": [
    "df_pyspark = spark.read.csv('test1.csv', header=True, sep=\";\")"
   ]
  },
  {
   "cell_type": "code",
   "execution_count": 44,
   "id": "416c2160",
   "metadata": {},
   "outputs": [
    {
     "name": "stdout",
     "output_type": "stream",
     "text": [
      "+---------+---+\n",
      "|     name|age|\n",
      "+---------+---+\n",
      "|   Jasmin| 27|\n",
      "|   Marcus| 29|\n",
      "|  Vanessa| 25|\n",
      "|Christine| 51|\n",
      "+---------+---+\n",
      "\n"
     ]
    }
   ],
   "source": [
    "df_pyspark.show()"
   ]
  },
  {
   "cell_type": "code",
   "execution_count": 42,
   "id": "e52a300c",
   "metadata": {},
   "outputs": [
    {
     "data": {
      "text/plain": [
       "pyspark.sql.dataframe.DataFrame"
      ]
     },
     "execution_count": 42,
     "metadata": {},
     "output_type": "execute_result"
    }
   ],
   "source": [
    "type(df_pyspark)"
   ]
  },
  {
   "cell_type": "code",
   "execution_count": 43,
   "id": "f4eca533",
   "metadata": {},
   "outputs": [
    {
     "data": {
      "text/plain": [
       "[Row(name='Jasmin', age='27')]"
      ]
     },
     "execution_count": 43,
     "metadata": {},
     "output_type": "execute_result"
    }
   ],
   "source": [
    "df_pyspark.head(1)"
   ]
  },
  {
   "cell_type": "code",
   "execution_count": 39,
   "id": "69b6bd2f",
   "metadata": {},
   "outputs": [
    {
     "name": "stdout",
     "output_type": "stream",
     "text": [
      "root\n",
      " |-- name;age: string (nullable = true)\n",
      "\n"
     ]
    }
   ],
   "source": [
    "df_pyspark.printSchema()"
   ]
  },
  {
   "cell_type": "markdown",
   "id": "e94d01ec",
   "metadata": {},
   "source": [
    "## PySpark DataFrames Part 1\n",
    "### reading dataset, checking the datatypes of the column (Schema), selecting columns and indexing, check describe option similar to pandas, adding columns, dropping columns"
   ]
  },
  {
   "cell_type": "markdown",
   "id": "d187b16b",
   "metadata": {},
   "source": [
    "let's see different ways to read in data"
   ]
  },
  {
   "cell_type": "code",
   "execution_count": 50,
   "id": "f239e0e4",
   "metadata": {},
   "outputs": [
    {
     "data": {
      "text/html": [
       "\n",
       "            <div>\n",
       "                <p><b>SparkSession - hive</b></p>\n",
       "                \n",
       "        <div>\n",
       "            <p><b>SparkContext</b></p>\n",
       "\n",
       "            <p><a href=\"http://host.docker.internal:4040\">Spark UI</a></p>\n",
       "\n",
       "            <dl>\n",
       "              <dt>Version</dt>\n",
       "                <dd><code>v3.2.1</code></dd>\n",
       "              <dt>Master</dt>\n",
       "                <dd><code>local[*]</code></dd>\n",
       "              <dt>AppName</dt>\n",
       "                <dd><code>Practise</code></dd>\n",
       "            </dl>\n",
       "        </div>\n",
       "        \n",
       "            </div>\n",
       "        "
      ],
      "text/plain": [
       "<pyspark.sql.session.SparkSession at 0x1aad32fe160>"
      ]
     },
     "execution_count": 50,
     "metadata": {},
     "output_type": "execute_result"
    }
   ],
   "source": [
    "spark"
   ]
  },
  {
   "cell_type": "code",
   "execution_count": 70,
   "id": "6e4d924b",
   "metadata": {},
   "outputs": [],
   "source": [
    "# read dataset\n",
    "df1 = spark.read.csv('test1.csv', header=True, sep=\";\", inferSchema=True)"
   ]
  },
  {
   "cell_type": "code",
   "execution_count": 71,
   "id": "8cf2701b",
   "metadata": {
    "scrolled": true
   },
   "outputs": [
    {
     "name": "stdout",
     "output_type": "stream",
     "text": [
      "root\n",
      " |-- Name: string (nullable = true)\n",
      " |-- Alter: integer (nullable = true)\n",
      " |-- Skills: integer (nullable = true)\n",
      "\n"
     ]
    }
   ],
   "source": [
    "# Check schema\n",
    "df1.printSchema()"
   ]
  },
  {
   "cell_type": "markdown",
   "id": "92c6ec25",
   "metadata": {},
   "source": [
    "Why is it reading in my ints as strings? --> add the inferSchema option above in the read function!"
   ]
  },
  {
   "cell_type": "code",
   "execution_count": 72,
   "id": "72fe9bbf",
   "metadata": {},
   "outputs": [
    {
     "name": "stdout",
     "output_type": "stream",
     "text": [
      "+-------+-----+------+\n",
      "|   Name|Alter|Skills|\n",
      "+-------+-----+------+\n",
      "| Marcus|   29|   100|\n",
      "|Vanessa|   25|    90|\n",
      "| Jasmin|   27|    80|\n",
      "+-------+-----+------+\n",
      "\n"
     ]
    }
   ],
   "source": [
    "df1 = spark.read.csv('test1.csv', header=True, sep=\";\", inferSchema=True)\n",
    "df1.show()"
   ]
  },
  {
   "cell_type": "code",
   "execution_count": 73,
   "id": "c4533abf",
   "metadata": {},
   "outputs": [
    {
     "data": {
      "text/plain": [
       "pyspark.sql.dataframe.DataFrame"
      ]
     },
     "execution_count": 73,
     "metadata": {},
     "output_type": "execute_result"
    }
   ],
   "source": [
    "type(df1)"
   ]
  },
  {
   "cell_type": "code",
   "execution_count": 75,
   "id": "5da864d6",
   "metadata": {},
   "outputs": [
    {
     "name": "stdout",
     "output_type": "stream",
     "text": [
      "+-------+------+\n",
      "|   Name|Skills|\n",
      "+-------+------+\n",
      "| Marcus|   100|\n",
      "|Vanessa|    90|\n",
      "| Jasmin|    80|\n",
      "+-------+------+\n",
      "\n"
     ]
    }
   ],
   "source": [
    "#select certain columns\n",
    "df1.select(['Name', 'Skills']).show()"
   ]
  },
  {
   "cell_type": "code",
   "execution_count": 76,
   "id": "39d12ee7",
   "metadata": {},
   "outputs": [
    {
     "data": {
      "text/plain": [
       "[('Name', 'string'), ('Alter', 'int'), ('Skills', 'int')]"
      ]
     },
     "execution_count": 76,
     "metadata": {},
     "output_type": "execute_result"
    }
   ],
   "source": [
    "#show datatypes of all columns\n",
    "df1.dtypes"
   ]
  },
  {
   "cell_type": "code",
   "execution_count": 78,
   "id": "a5fb3efd",
   "metadata": {},
   "outputs": [
    {
     "name": "stdout",
     "output_type": "stream",
     "text": [
      "+-------+-------+-----+------+\n",
      "|summary|   Name|Alter|Skills|\n",
      "+-------+-------+-----+------+\n",
      "|  count|      3|    3|     3|\n",
      "|   mean|   null| 27.0|  90.0|\n",
      "| stddev|   null|  2.0|  10.0|\n",
      "|    min| Jasmin|   25|    80|\n",
      "|    max|Vanessa|   29|   100|\n",
      "+-------+-------+-----+------+\n",
      "\n"
     ]
    }
   ],
   "source": [
    "#check the describe options - gives out statistics about my dataframe\n",
    "df1.describe().show()"
   ]
  },
  {
   "cell_type": "code",
   "execution_count": 82,
   "id": "ab57a30d",
   "metadata": {},
   "outputs": [
    {
     "name": "stdout",
     "output_type": "stream",
     "text": [
      "+-------+-----+------+----------------------+\n",
      "|   Name|Alter|Skills|Skills After Two Years|\n",
      "+-------+-----+------+----------------------+\n",
      "| Marcus|   29|   100|                   102|\n",
      "|Vanessa|   25|    90|                    92|\n",
      "| Jasmin|   27|    80|                    82|\n",
      "+-------+-----+------+----------------------+\n",
      "\n"
     ]
    }
   ],
   "source": [
    "#adding columns --> add new column and add 2 two values of old column Skills\n",
    "df1.withColumn('Skills After Two Years', df1['Skills']+2).show()"
   ]
  },
  {
   "cell_type": "code",
   "execution_count": null,
   "id": "ee9588db",
   "metadata": {},
   "outputs": [],
   "source": []
  },
  {
   "cell_type": "code",
   "execution_count": null,
   "id": "1566dfd4",
   "metadata": {},
   "outputs": [],
   "source": []
  }
 ],
 "metadata": {
  "kernelspec": {
   "display_name": "Python 3 (ipykernel)",
   "language": "python",
   "name": "python3"
  },
  "language_info": {
   "codemirror_mode": {
    "name": "ipython",
    "version": 3
   },
   "file_extension": ".py",
   "mimetype": "text/x-python",
   "name": "python",
   "nbconvert_exporter": "python",
   "pygments_lexer": "ipython3",
   "version": "3.8.12"
  }
 },
 "nbformat": 4,
 "nbformat_minor": 5
}
