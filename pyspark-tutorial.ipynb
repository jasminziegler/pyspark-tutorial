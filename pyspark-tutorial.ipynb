{
 "cells": [
  {
   "cell_type": "code",
   "execution_count": 1,
   "id": "b29f5042",
   "metadata": {},
   "outputs": [
    {
     "name": "stdout",
     "output_type": "stream",
     "text": [
      "Python 3.8.12\n"
     ]
    }
   ],
   "source": [
    "! python --version"
   ]
  },
  {
   "cell_type": "code",
   "execution_count": 2,
   "id": "41ed70ec",
   "metadata": {},
   "outputs": [
    {
     "name": "stdout",
     "output_type": "stream",
     "text": [
      "Collecting pyspark\n",
      "  Using cached pyspark-3.2.1-py2.py3-none-any.whl\n",
      "Collecting py4j==0.10.9.3\n",
      "  Using cached py4j-0.10.9.3-py2.py3-none-any.whl (198 kB)\n",
      "Installing collected packages: py4j, pyspark\n",
      "Successfully installed py4j-0.10.9.3 pyspark-3.2.1\n"
     ]
    }
   ],
   "source": [
    "!pip install pyspark"
   ]
  },
  {
   "cell_type": "markdown",
   "id": "40eef0c7",
   "metadata": {},
   "source": [
    "## Pyspark Introduction"
   ]
  },
  {
   "cell_type": "code",
   "execution_count": 2,
   "id": "604ef057",
   "metadata": {},
   "outputs": [],
   "source": [
    "import pyspark"
   ]
  },
  {
   "cell_type": "code",
   "execution_count": 5,
   "id": "64b4c832",
   "metadata": {
    "scrolled": true
   },
   "outputs": [
    {
     "name": "stdout",
     "output_type": "stream",
     "text": [
      "Collecting pandas\n",
      "  Downloading pandas-1.4.0-cp38-cp38-win_amd64.whl (10.6 MB)\n",
      "Collecting numpy>=1.18.5\n",
      "  Downloading numpy-1.22.2-cp38-cp38-win_amd64.whl (14.7 MB)\n",
      "Requirement already satisfied: python-dateutil>=2.8.1 in d:\\minicondca\\envs\\env_py3.8\\lib\\site-packages (from pandas) (2.8.2)\n",
      "Collecting pytz>=2020.1\n",
      "  Downloading pytz-2021.3-py2.py3-none-any.whl (503 kB)\n",
      "Requirement already satisfied: six>=1.5 in d:\\minicondca\\envs\\env_py3.8\\lib\\site-packages (from python-dateutil>=2.8.1->pandas) (1.16.0)\n",
      "Installing collected packages: pytz, numpy, pandas\n",
      "Successfully installed numpy-1.22.2 pandas-1.4.0 pytz-2021.3\n"
     ]
    }
   ],
   "source": [
    "!pip install pandas"
   ]
  },
  {
   "cell_type": "code",
   "execution_count": 12,
   "id": "a745bbbc",
   "metadata": {},
   "outputs": [
    {
     "name": "stdout",
     "output_type": "stream",
     "text": [
      "Collecting openpyxl\n",
      "  Downloading openpyxl-3.0.9-py2.py3-none-any.whl (242 kB)\n",
      "Collecting et-xmlfile\n",
      "  Downloading et_xmlfile-1.1.0-py3-none-any.whl (4.7 kB)\n",
      "Installing collected packages: et-xmlfile, openpyxl\n",
      "Successfully installed et-xmlfile-1.1.0 openpyxl-3.0.9\n"
     ]
    }
   ],
   "source": [
    "!pip install openpyxl"
   ]
  },
  {
   "cell_type": "code",
   "execution_count": 3,
   "id": "25074b82",
   "metadata": {},
   "outputs": [],
   "source": [
    "import pandas as pd"
   ]
  },
  {
   "cell_type": "code",
   "execution_count": 17,
   "id": "dafb4bd9",
   "metadata": {},
   "outputs": [
    {
     "data": {
      "text/html": [
       "<div>\n",
       "<style scoped>\n",
       "    .dataframe tbody tr th:only-of-type {\n",
       "        vertical-align: middle;\n",
       "    }\n",
       "\n",
       "    .dataframe tbody tr th {\n",
       "        vertical-align: top;\n",
       "    }\n",
       "\n",
       "    .dataframe thead th {\n",
       "        text-align: right;\n",
       "    }\n",
       "</style>\n",
       "<table border=\"1\" class=\"dataframe\">\n",
       "  <thead>\n",
       "    <tr style=\"text-align: right;\">\n",
       "      <th></th>\n",
       "      <th>name;age</th>\n",
       "    </tr>\n",
       "  </thead>\n",
       "  <tbody>\n",
       "    <tr>\n",
       "      <th>0</th>\n",
       "      <td>Jasmin;27</td>\n",
       "    </tr>\n",
       "    <tr>\n",
       "      <th>1</th>\n",
       "      <td>Marcus;29</td>\n",
       "    </tr>\n",
       "    <tr>\n",
       "      <th>2</th>\n",
       "      <td>Vanessa;25</td>\n",
       "    </tr>\n",
       "    <tr>\n",
       "      <th>3</th>\n",
       "      <td>Christine;51</td>\n",
       "    </tr>\n",
       "  </tbody>\n",
       "</table>\n",
       "</div>"
      ],
      "text/plain": [
       "       name;age\n",
       "0     Jasmin;27\n",
       "1     Marcus;29\n",
       "2    Vanessa;25\n",
       "3  Christine;51"
      ]
     },
     "execution_count": 17,
     "metadata": {},
     "output_type": "execute_result"
    }
   ],
   "source": [
    "pandas_df = pd.read_csv('test1.csv')\n",
    "pandas_df"
   ]
  },
  {
   "cell_type": "code",
   "execution_count": 5,
   "id": "1f392599",
   "metadata": {},
   "outputs": [],
   "source": [
    "from pyspark.sql import SparkSession"
   ]
  },
  {
   "cell_type": "code",
   "execution_count": 6,
   "id": "7aa8d225",
   "metadata": {},
   "outputs": [],
   "source": [
    "spark = SparkSession.builder.appName('Practise').getOrCreate()"
   ]
  },
  {
   "cell_type": "code",
   "execution_count": 7,
   "id": "21a05392",
   "metadata": {},
   "outputs": [
    {
     "data": {
      "text/html": [
       "\n",
       "            <div>\n",
       "                <p><b>SparkSession - in-memory</b></p>\n",
       "                \n",
       "        <div>\n",
       "            <p><b>SparkContext</b></p>\n",
       "\n",
       "            <p><a href=\"http://host.docker.internal:4040\">Spark UI</a></p>\n",
       "\n",
       "            <dl>\n",
       "              <dt>Version</dt>\n",
       "                <dd><code>v3.2.1</code></dd>\n",
       "              <dt>Master</dt>\n",
       "                <dd><code>local[*]</code></dd>\n",
       "              <dt>AppName</dt>\n",
       "                <dd><code>Practise</code></dd>\n",
       "            </dl>\n",
       "        </div>\n",
       "        \n",
       "            </div>\n",
       "        "
      ],
      "text/plain": [
       "<pyspark.sql.session.SparkSession at 0x1aad32fe160>"
      ]
     },
     "execution_count": 7,
     "metadata": {},
     "output_type": "execute_result"
    }
   ],
   "source": [
    "spark"
   ]
  },
  {
   "cell_type": "code",
   "execution_count": 30,
   "id": "2bcd1e01",
   "metadata": {},
   "outputs": [],
   "source": [
    "df_pyspark = spark.read.csv('test1.csv')"
   ]
  },
  {
   "cell_type": "code",
   "execution_count": 40,
   "id": "4e89c258",
   "metadata": {},
   "outputs": [
    {
     "name": "stdout",
     "output_type": "stream",
     "text": [
      "root\n",
      " |-- name;age: string (nullable = true)\n",
      "\n"
     ]
    }
   ],
   "source": [
    "df_pyspark.printSchema()"
   ]
  },
  {
   "cell_type": "code",
   "execution_count": 32,
   "id": "922b8985",
   "metadata": {},
   "outputs": [
    {
     "name": "stdout",
     "output_type": "stream",
     "text": [
      "+------------+\n",
      "|         _c0|\n",
      "+------------+\n",
      "|    name;age|\n",
      "|   Jasmin;27|\n",
      "|   Marcus;29|\n",
      "|  Vanessa;25|\n",
      "|Christine;51|\n",
      "+------------+\n",
      "\n"
     ]
    }
   ],
   "source": [
    "df_pyspark.show()"
   ]
  },
  {
   "cell_type": "markdown",
   "id": "2f8cd1da",
   "metadata": {},
   "source": [
    "make first row column names, ; as seperator so we don't mix up columns"
   ]
  },
  {
   "cell_type": "code",
   "execution_count": 41,
   "id": "87c566a7",
   "metadata": {},
   "outputs": [],
   "source": [
    "df_pyspark = spark.read.csv('test1.csv', header=True, sep=\";\")"
   ]
  },
  {
   "cell_type": "code",
   "execution_count": 44,
   "id": "79169cec",
   "metadata": {},
   "outputs": [
    {
     "name": "stdout",
     "output_type": "stream",
     "text": [
      "+---------+---+\n",
      "|     name|age|\n",
      "+---------+---+\n",
      "|   Jasmin| 27|\n",
      "|   Marcus| 29|\n",
      "|  Vanessa| 25|\n",
      "|Christine| 51|\n",
      "+---------+---+\n",
      "\n"
     ]
    }
   ],
   "source": [
    "df_pyspark.show()"
   ]
  },
  {
   "cell_type": "code",
   "execution_count": 42,
   "id": "a9de7947",
   "metadata": {},
   "outputs": [
    {
     "data": {
      "text/plain": [
       "pyspark.sql.dataframe.DataFrame"
      ]
     },
     "execution_count": 42,
     "metadata": {},
     "output_type": "execute_result"
    }
   ],
   "source": [
    "type(df_pyspark)"
   ]
  },
  {
   "cell_type": "code",
   "execution_count": 43,
   "id": "a628eaf8",
   "metadata": {},
   "outputs": [
    {
     "data": {
      "text/plain": [
       "[Row(name='Jasmin', age='27')]"
      ]
     },
     "execution_count": 43,
     "metadata": {},
     "output_type": "execute_result"
    }
   ],
   "source": [
    "df_pyspark.head(1)"
   ]
  },
  {
   "cell_type": "code",
   "execution_count": 39,
   "id": "4d521824",
   "metadata": {},
   "outputs": [
    {
     "name": "stdout",
     "output_type": "stream",
     "text": [
      "root\n",
      " |-- name;age: string (nullable = true)\n",
      "\n"
     ]
    }
   ],
   "source": [
    "df_pyspark.printSchema()"
   ]
  },
  {
   "cell_type": "markdown",
   "id": "c7fe1204",
   "metadata": {},
   "source": [
    "## PySpark DataFrames Part 1\n",
    "### reading dataset, checking the datatypes of the column (Schema), selecting columns and indexing, check describe option similar to pandas, adding columns, dropping columns"
   ]
  },
  {
   "cell_type": "markdown",
   "id": "c434d014",
   "metadata": {},
   "source": [
    "let's see different ways to read in data"
   ]
  },
  {
   "cell_type": "code",
   "execution_count": 50,
   "id": "b978aead",
   "metadata": {},
   "outputs": [
    {
     "data": {
      "text/html": [
       "\n",
       "            <div>\n",
       "                <p><b>SparkSession - hive</b></p>\n",
       "                \n",
       "        <div>\n",
       "            <p><b>SparkContext</b></p>\n",
       "\n",
       "            <p><a href=\"http://host.docker.internal:4040\">Spark UI</a></p>\n",
       "\n",
       "            <dl>\n",
       "              <dt>Version</dt>\n",
       "                <dd><code>v3.2.1</code></dd>\n",
       "              <dt>Master</dt>\n",
       "                <dd><code>local[*]</code></dd>\n",
       "              <dt>AppName</dt>\n",
       "                <dd><code>Practise</code></dd>\n",
       "            </dl>\n",
       "        </div>\n",
       "        \n",
       "            </div>\n",
       "        "
      ],
      "text/plain": [
       "<pyspark.sql.session.SparkSession at 0x1aad32fe160>"
      ]
     },
     "execution_count": 50,
     "metadata": {},
     "output_type": "execute_result"
    }
   ],
   "source": [
    "spark"
   ]
  },
  {
   "cell_type": "code",
   "execution_count": 70,
   "id": "bb4e81ea",
   "metadata": {},
   "outputs": [],
   "source": [
    "# read dataset\n",
    "df1 = spark.read.csv('test1.csv', header=True, sep=\";\", inferSchema=True)"
   ]
  },
  {
   "cell_type": "code",
   "execution_count": 71,
   "id": "7d256a3f",
   "metadata": {
    "scrolled": true
   },
   "outputs": [
    {
     "name": "stdout",
     "output_type": "stream",
     "text": [
      "root\n",
      " |-- Name: string (nullable = true)\n",
      " |-- Alter: integer (nullable = true)\n",
      " |-- Skills: integer (nullable = true)\n",
      "\n"
     ]
    }
   ],
   "source": [
    "# Check schema\n",
    "df1.printSchema()"
   ]
  },
  {
   "cell_type": "markdown",
   "id": "2960c055",
   "metadata": {},
   "source": [
    "Why is it reading in my ints as strings? --> add the inferSchema option above in the read function!"
   ]
  },
  {
   "cell_type": "code",
   "execution_count": 72,
   "id": "fe999811",
   "metadata": {},
   "outputs": [
    {
     "name": "stdout",
     "output_type": "stream",
     "text": [
      "+-------+-----+------+\n",
      "|   Name|Alter|Skills|\n",
      "+-------+-----+------+\n",
      "| Marcus|   29|   100|\n",
      "|Vanessa|   25|    90|\n",
      "| Jasmin|   27|    80|\n",
      "+-------+-----+------+\n",
      "\n"
     ]
    }
   ],
   "source": [
    "df1 = spark.read.csv('test1.csv', header=True, sep=\";\", inferSchema=True)\n",
    "df1.show()"
   ]
  },
  {
   "cell_type": "code",
   "execution_count": 73,
   "id": "9d671082",
   "metadata": {},
   "outputs": [
    {
     "data": {
      "text/plain": [
       "pyspark.sql.dataframe.DataFrame"
      ]
     },
     "execution_count": 73,
     "metadata": {},
     "output_type": "execute_result"
    }
   ],
   "source": [
    "type(df1)"
   ]
  },
  {
   "cell_type": "code",
   "execution_count": 75,
   "id": "38b54774",
   "metadata": {},
   "outputs": [
    {
     "name": "stdout",
     "output_type": "stream",
     "text": [
      "+-------+------+\n",
      "|   Name|Skills|\n",
      "+-------+------+\n",
      "| Marcus|   100|\n",
      "|Vanessa|    90|\n",
      "| Jasmin|    80|\n",
      "+-------+------+\n",
      "\n"
     ]
    }
   ],
   "source": [
    "#select certain columns\n",
    "df1.select(['Name', 'Skills']).show()"
   ]
  },
  {
   "cell_type": "code",
   "execution_count": 76,
   "id": "b7c255e8",
   "metadata": {},
   "outputs": [
    {
     "data": {
      "text/plain": [
       "[('Name', 'string'), ('Alter', 'int'), ('Skills', 'int')]"
      ]
     },
     "execution_count": 76,
     "metadata": {},
     "output_type": "execute_result"
    }
   ],
   "source": [
    "#show datatypes of all columns\n",
    "df1.dtypes"
   ]
  },
  {
   "cell_type": "code",
   "execution_count": 78,
   "id": "56624477",
   "metadata": {},
   "outputs": [
    {
     "name": "stdout",
     "output_type": "stream",
     "text": [
      "+-------+-------+-----+------+\n",
      "|summary|   Name|Alter|Skills|\n",
      "+-------+-------+-----+------+\n",
      "|  count|      3|    3|     3|\n",
      "|   mean|   null| 27.0|  90.0|\n",
      "| stddev|   null|  2.0|  10.0|\n",
      "|    min| Jasmin|   25|    80|\n",
      "|    max|Vanessa|   29|   100|\n",
      "+-------+-------+-----+------+\n",
      "\n"
     ]
    }
   ],
   "source": [
    "#check the describe options - gives out statistics about my dataframe\n",
    "df1.describe().show()"
   ]
  },
  {
   "cell_type": "code",
   "execution_count": 88,
   "id": "120043b1",
   "metadata": {},
   "outputs": [
    {
     "name": "stdout",
     "output_type": "stream",
     "text": [
      "+-------+-----+------+----------------------+\n",
      "|   Name|Alter|Skills|Skills After Two Years|\n",
      "+-------+-----+------+----------------------+\n",
      "| Marcus|   29|   100|                   102|\n",
      "|Vanessa|   25|    90|                    92|\n",
      "| Jasmin|   27|    80|                    82|\n",
      "+-------+-----+------+----------------------+\n",
      "\n"
     ]
    }
   ],
   "source": [
    "#adding columns --> add new column and add 2 two values of old column Skills\n",
    "df1=df1.withColumn('Skills After Two Years', df1['Skills']+2)\n",
    "df1.show()"
   ]
  },
  {
   "cell_type": "code",
   "execution_count": 89,
   "id": "488f2944",
   "metadata": {},
   "outputs": [
    {
     "name": "stdout",
     "output_type": "stream",
     "text": [
      "+-------+------+----------------------+\n",
      "|   Name|Skills|Skills After Two Years|\n",
      "+-------+------+----------------------+\n",
      "| Marcus|   100|                   102|\n",
      "|Vanessa|    90|                    92|\n",
      "| Jasmin|    80|                    82|\n",
      "+-------+------+----------------------+\n",
      "\n"
     ]
    }
   ],
   "source": [
    "#drop columns\n",
    "df1 = df1.drop('Alter')\n",
    "df1.show()"
   ]
  },
  {
   "cell_type": "code",
   "execution_count": 92,
   "id": "de6bc7d1",
   "metadata": {},
   "outputs": [
    {
     "name": "stdout",
     "output_type": "stream",
     "text": [
      "+-------+------+----------------------+\n",
      "|Vorname|Skills|Skills After Two Years|\n",
      "+-------+------+----------------------+\n",
      "| Marcus|   100|                   102|\n",
      "|Vanessa|    90|                    92|\n",
      "| Jasmin|    80|                    82|\n",
      "+-------+------+----------------------+\n",
      "\n"
     ]
    }
   ],
   "source": [
    "#rename the columns\n",
    "df1 = df1.withColumnRenamed('Name', 'Vorname')\n",
    "df1.show()"
   ]
  },
  {
   "cell_type": "markdown",
   "id": "4b21ded5",
   "metadata": {},
   "source": [
    "## PySpark Handling missing values\n",
    "### dropping columns, dropping rows, various parameter in dropping functionalities, handling missing values by Mean, Median and Mode"
   ]
  },
  {
   "cell_type": "code",
   "execution_count": 96,
   "id": "2d95cf10",
   "metadata": {},
   "outputs": [],
   "source": [
    "df2 = spark.read.csv('test2.csv', header=True, inferSchema=True, sep=';')"
   ]
  },
  {
   "cell_type": "code",
   "execution_count": 97,
   "id": "d42adc56",
   "metadata": {},
   "outputs": [
    {
     "name": "stdout",
     "output_type": "stream",
     "text": [
      "+------+----+--------+--------+\n",
      "|  Name| Age|YearsJob|YearsUni|\n",
      "+------+----+--------+--------+\n",
      "|  Anna|  20|       0|       2|\n",
      "|  Yana|  30|       5|       4|\n",
      "|Marcus|  29|       3|       7|\n",
      "|  Paul|  35|      10|       5|\n",
      "|Emilia|null|    null|       3|\n",
      "|  null|  40|      15|       3|\n",
      "|  null|  18|    null|    null|\n",
      "+------+----+--------+--------+\n",
      "\n"
     ]
    }
   ],
   "source": [
    "df2.show()   #blanks are filled in with null"
   ]
  },
  {
   "cell_type": "code",
   "execution_count": 99,
   "id": "cbf59720",
   "metadata": {},
   "outputs": [
    {
     "name": "stdout",
     "output_type": "stream",
     "text": [
      "+----+--------+--------+\n",
      "| Age|YearsJob|YearsUni|\n",
      "+----+--------+--------+\n",
      "|  20|       0|       2|\n",
      "|  30|       5|       4|\n",
      "|  29|       3|       7|\n",
      "|  35|      10|       5|\n",
      "|null|    null|       3|\n",
      "|  40|      15|       3|\n",
      "|  18|    null|    null|\n",
      "+----+--------+--------+\n",
      "\n"
     ]
    }
   ],
   "source": [
    "#drop column\n",
    "df2.drop('Name').show()"
   ]
  },
  {
   "cell_type": "code",
   "execution_count": 100,
   "id": "fe6bafa5",
   "metadata": {},
   "outputs": [
    {
     "name": "stdout",
     "output_type": "stream",
     "text": [
      "+------+---+--------+--------+\n",
      "|  Name|Age|YearsJob|YearsUni|\n",
      "+------+---+--------+--------+\n",
      "|  Anna| 20|       0|       2|\n",
      "|  Yana| 30|       5|       4|\n",
      "|Marcus| 29|       3|       7|\n",
      "|  Paul| 35|      10|       5|\n",
      "+------+---+--------+--------+\n",
      "\n"
     ]
    }
   ],
   "source": [
    "# drop ROWS based on null values - without arg in drop() - drops all rows where there is a null value\n",
    "df2.na.drop().show()"
   ]
  },
  {
   "cell_type": "code",
   "execution_count": 102,
   "id": "b97e6b0c",
   "metadata": {},
   "outputs": [
    {
     "name": "stdout",
     "output_type": "stream",
     "text": [
      "+------+----+--------+--------+\n",
      "|  Name| Age|YearsJob|YearsUni|\n",
      "+------+----+--------+--------+\n",
      "|  Anna|  20|       0|       2|\n",
      "|  Yana|  30|       5|       4|\n",
      "|Marcus|  29|       3|       7|\n",
      "|  Paul|  35|      10|       5|\n",
      "|Emilia|null|    null|       3|\n",
      "|  null|  40|      15|       3|\n",
      "|  null|  18|    null|    null|\n",
      "+------+----+--------+--------+\n",
      "\n"
     ]
    }
   ],
   "source": [
    "# drop(how=\"all\")\n",
    "df2.na.drop(how=\"all\").show() # only drops where we have ALL NULLS in a row - will not drop any row here"
   ]
  },
  {
   "cell_type": "code",
   "execution_count": 103,
   "id": "44acc252",
   "metadata": {},
   "outputs": [
    {
     "name": "stdout",
     "output_type": "stream",
     "text": [
      "+------+---+--------+--------+\n",
      "|  Name|Age|YearsJob|YearsUni|\n",
      "+------+---+--------+--------+\n",
      "|  Anna| 20|       0|       2|\n",
      "|  Yana| 30|       5|       4|\n",
      "|Marcus| 29|       3|       7|\n",
      "|  Paul| 35|      10|       5|\n",
      "+------+---+--------+--------+\n",
      "\n"
     ]
    }
   ],
   "source": [
    "# drop(how = \"any\")\n",
    "df2.na.drop(how=\"any\").show()  # drops where we have any null value - so same as not specifying drop()"
   ]
  },
  {
   "cell_type": "code",
   "execution_count": 104,
   "id": "282f49a3",
   "metadata": {},
   "outputs": [
    {
     "name": "stdout",
     "output_type": "stream",
     "text": [
      "+------+----+--------+--------+\n",
      "|  Name| Age|YearsJob|YearsUni|\n",
      "+------+----+--------+--------+\n",
      "|  Anna|  20|       0|       2|\n",
      "|  Yana|  30|       5|       4|\n",
      "|Marcus|  29|       3|       7|\n",
      "|  Paul|  35|      10|       5|\n",
      "|Emilia|null|    null|       3|\n",
      "|  null|  40|      15|       3|\n",
      "+------+----+--------+--------+\n",
      "\n"
     ]
    }
   ],
   "source": [
    "# threshold - at least x non null values - only drops last row with 1 non null value\n",
    "df2.na.drop(how=\"any\", thresh=2).show()"
   ]
  },
  {
   "cell_type": "code",
   "execution_count": 105,
   "id": "487de60e",
   "metadata": {},
   "outputs": [
    {
     "name": "stdout",
     "output_type": "stream",
     "text": [
      "+------+---+--------+--------+\n",
      "|  Name|Age|YearsJob|YearsUni|\n",
      "+------+---+--------+--------+\n",
      "|  Anna| 20|       0|       2|\n",
      "|  Yana| 30|       5|       4|\n",
      "|Marcus| 29|       3|       7|\n",
      "|  Paul| 35|      10|       5|\n",
      "|  null| 40|      15|       3|\n",
      "+------+---+--------+--------+\n",
      "\n"
     ]
    }
   ],
   "source": [
    "# drop(subset)\n",
    "df2.na.drop(how=\"any\", subset=['YearsJob']).show()   #only drop null values from column YearsJob"
   ]
  },
  {
   "cell_type": "code",
   "execution_count": 114,
   "id": "d010fae7",
   "metadata": {},
   "outputs": [
    {
     "name": "stdout",
     "output_type": "stream",
     "text": [
      "+------+----+--------+--------+\n",
      "|  Name| Age|YearsJob|YearsUni|\n",
      "+------+----+--------+--------+\n",
      "|  Anna|  20|       0|       2|\n",
      "|  Yana|  30|       5|       4|\n",
      "|Marcus|  29|       3|       7|\n",
      "|  Paul|  35|      10|       5|\n",
      "|Emilia|null|    null|       3|\n",
      "| xxxxx|  40|      15|       3|\n",
      "| xxxxx|  18|    null|    null|\n",
      "+------+----+--------+--------+\n",
      "\n"
     ]
    }
   ],
   "source": [
    "# fill missing value\n",
    "df2.na.fill(value='xxxxx', subset=['Name', 'Age']).show()"
   ]
  },
  {
   "cell_type": "code",
   "execution_count": 116,
   "id": "a1f563d0",
   "metadata": {},
   "outputs": [
    {
     "name": "stdout",
     "output_type": "stream",
     "text": [
      "+------+----+--------+--------+\n",
      "|  Name| Age|YearsJob|YearsUni|\n",
      "+------+----+--------+--------+\n",
      "|  Anna|  20|       0|       2|\n",
      "|  Yana|  30|       5|       4|\n",
      "|Marcus|  29|       3|       7|\n",
      "|  Paul|  35|      10|       5|\n",
      "|Emilia|null|    null|       3|\n",
      "|  null|  40|      15|       3|\n",
      "|  null|  18|    null|    null|\n",
      "+------+----+--------+--------+\n",
      "\n"
     ]
    }
   ],
   "source": [
    "# fill missing value with the MEAN of the specific column with an IMPUTER function\n",
    "df2.show()"
   ]
  },
  {
   "cell_type": "code",
   "execution_count": 122,
   "id": "08db3ad0",
   "metadata": {},
   "outputs": [],
   "source": [
    "from pyspark.ml.feature import Imputer\n",
    "\n",
    "imputer = Imputer(\n",
    "    inputCols=['Age', 'YearsJob', 'YearsUni'],\n",
    "    outputCols=[\"{}_imputed\".format(c) for c in ['Age', 'YearsJob', 'YearsUni']] #this creates \"new\" cols with old name +_imputed\n",
    "    ).setStrategy(\"median\")     #strategy can be mean, median, mode, etc"
   ]
  },
  {
   "cell_type": "code",
   "execution_count": 123,
   "id": "05ed2717",
   "metadata": {},
   "outputs": [
    {
     "name": "stdout",
     "output_type": "stream",
     "text": [
      "+------+----+--------+--------+-----------+----------------+----------------+\n",
      "|  Name| Age|YearsJob|YearsUni|Age_imputed|YearsJob_imputed|YearsUni_imputed|\n",
      "+------+----+--------+--------+-----------+----------------+----------------+\n",
      "|  Anna|  20|       0|       2|         20|               0|               2|\n",
      "|  Yana|  30|       5|       4|         30|               5|               4|\n",
      "|Marcus|  29|       3|       7|         29|               3|               7|\n",
      "|  Paul|  35|      10|       5|         35|              10|               5|\n",
      "|Emilia|null|    null|       3|         29|               5|               3|\n",
      "|  null|  40|      15|       3|         40|              15|               3|\n",
      "|  null|  18|    null|    null|         18|               5|               3|\n",
      "+------+----+--------+--------+-----------+----------------+----------------+\n",
      "\n"
     ]
    }
   ],
   "source": [
    "# add imputation columns to df - now we could \"drop\" the old cols\n",
    "imputer.fit(df2).transform(df2).show()"
   ]
  },
  {
   "cell_type": "markdown",
   "id": "8911cd99",
   "metadata": {},
   "source": [
    "## PySpark Dataframe Part 2"
   ]
  },
  {
   "cell_type": "markdown",
   "id": "8dc8a675",
   "metadata": {},
   "source": [
    "## PySpark Groupby And Aggregate Functions"
   ]
  },
  {
   "cell_type": "markdown",
   "id": "a003756f",
   "metadata": {},
   "source": [
    "## PySpark Mlib - Installation and Implementation"
   ]
  },
  {
   "cell_type": "markdown",
   "id": "203936cf",
   "metadata": {},
   "source": [
    "## Introduction to Databricks"
   ]
  },
  {
   "cell_type": "markdown",
   "id": "66006005",
   "metadata": {},
   "source": [
    "## (Implementing Linear Regression using Databricks in Single Clusters"
   ]
  },
  {
   "cell_type": "code",
   "execution_count": null,
   "id": "424862ef",
   "metadata": {},
   "outputs": [],
   "source": []
  }
 ],
 "metadata": {
  "kernelspec": {
   "display_name": "Python 3 (ipykernel)",
   "language": "python",
   "name": "python3"
  },
  "language_info": {
   "codemirror_mode": {
    "name": "ipython",
    "version": 3
   },
   "file_extension": ".py",
   "mimetype": "text/x-python",
   "name": "python",
   "nbconvert_exporter": "python",
   "pygments_lexer": "ipython3",
   "version": "3.8.12"
  }
 },
 "nbformat": 4,
 "nbformat_minor": 5
}
